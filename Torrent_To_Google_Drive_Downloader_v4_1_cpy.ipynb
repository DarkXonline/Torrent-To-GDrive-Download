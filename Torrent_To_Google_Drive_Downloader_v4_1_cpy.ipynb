{
  "nbformat": 4,
  "nbformat_minor": 0,
  "metadata": {
    "colab": {
      "name": "Copy of Torrent To Google Drive Downloader v4.1.ipynb",
      "provenance": [],
      "collapsed_sections": [],
      "include_colab_link": true
    },
    "kernelspec": {
      "name": "python3",
      "display_name": "Python 3"
    },
    "language_info": {
      "name": "python"
    }
  },
  "cells": [
    {
      "cell_type": "markdown",
      "metadata": {
        "id": "view-in-github",
        "colab_type": "text"
      },
      "source": [
        "<a href=\"https://colab.research.google.com/github/DarkXonline/Torrent-To-GDrive-Download/blob/main/Torrent_To_Google_Drive_Downloader_v4_1_cpy.ipynb\" target=\"_parent\"><img src=\"https://colab.research.google.com/assets/colab-badge.svg\" alt=\"Open In Colab\"/></a>"
      ]
    },
    {
      "cell_type": "markdown",
      "metadata": {
        "id": "NOSmc6mrAd1g"
      },
      "source": [
        "# Torrent To Google Drive Downloader v4.1"
      ]
    },
    {
      "cell_type": "markdown",
      "metadata": {
        "id": "ewh1Vp0xAm5d"
      },
      "source": [
        "### Mount Google Drive\n",
        "To stream files we need to mount Google Drive."
      ]
    },
    {
      "cell_type": "code",
      "metadata": {
        "id": "YStpkQzkAul_",
        "colab": {
          "base_uri": "https://localhost:8080/"
        },
        "outputId": "bcec61e8-a045-4484-d011-ca1be66128ad"
      },
      "source": [
        "#@markdown <br><center><img src=\"https://upload.wikimedia.org/wikipedia/commons/thumb/d/da/Google_Drive_logo.png/600px-Google_Drive_logo.png\" height=\"50\" alt=\"Gdrive-logo' \"/></center>\n",
        "#@markdown <center><h3>Connect to Google Account</h3></center><br>\n",
        "MODE = \"MOUNT\" #@param [\"MOUNT\", \"UNMOUNT\"]\n",
        "#Mount your Gdrive! \n",
        "from google.colab import drive\n",
        "drive.mount._DEBUG = False\n",
        "if MODE == \"MOUNT\":\n",
        "  drive.mount('/gdrive', force_remount=True)\n",
        "elif MODE == \"UNMOUNT\":\n",
        "  try:\n",
        "    drive.flush_and_unmount()\n",
        "  except ValueError:\n",
        "    pass\n",
        "  get_ipython().system_raw(\"rm -rf /root/.config/Google/DriveFS\")"
      ],
      "execution_count": null,
      "outputs": [
        {
          "output_type": "stream",
          "name": "stdout",
          "text": [
            "Mounted at /content/drive\n"
          ]
        }
      ]
    },
    {
      "cell_type": "code",
      "source": [
        "#@markdown <br><center><img src='https://github.com/TheCaduceus/Google-Drive-Cloner/blob/main/Img/st.jpeg?raw=true' height=\"50\" alt=\"ST-logo\"/></center>\n",
        "#@markdown <center><h3>Check Transfer Speed!</h3></center><br>\n",
        "!curl -s https://raw.githubusercontent.com/sivel/speedtest-cli/master/speedtest.py | python"
      ],
      "metadata": {
        "id": "sAaswP9_nWCJ"
      },
      "execution_count": null,
      "outputs": []
    },
    {
      "cell_type": "markdown",
      "metadata": {
        "id": "Q2iDKOCFAwnu"
      },
      "source": [
        "###Dependency\n",
        "https://www.libtorrent.org/"
      ]
    },
    {
      "cell_type": "code",
      "metadata": {
        "id": "sp85h9LiA0hX",
        "colab": {
          "base_uri": "https://localhost:8080/"
        },
        "outputId": "402406b2-ea2a-470a-abcd-30af58209b18"
      },
      "source": [
        "!python -m pip install --upgrade pip setuptools wheel && python -m pip install lbry-libtorrent && apt install python3-libtorrent"
      ],
      "execution_count": null,
      "outputs": [
        {
          "output_type": "stream",
          "text": [
            "Collecting pip\n",
            "\u001b[?25l  Downloading https://files.pythonhosted.org/packages/fe/ef/60d7ba03b5c442309ef42e7d69959f73aacccd0d86008362a681c4698e83/pip-21.0.1-py3-none-any.whl (1.5MB)\n",
            "\u001b[K     |████████████████████████████████| 1.5MB 12.0MB/s \n",
            "\u001b[?25hCollecting setuptools\n",
            "\u001b[?25l  Downloading https://files.pythonhosted.org/packages/ae/42/2876a3a136f8bfa9bd703518441c8db78ff1eeaddf174baa85c083c1fd15/setuptools-56.0.0-py3-none-any.whl (784kB)\n",
            "\u001b[K     |████████████████████████████████| 788kB 32.6MB/s \n",
            "\u001b[?25hRequirement already up-to-date: wheel in /usr/local/lib/python3.7/dist-packages (0.36.2)\n",
            "\u001b[31mERROR: datascience 0.10.6 has requirement folium==0.2.1, but you'll have folium 0.8.3 which is incompatible.\u001b[0m\n",
            "Installing collected packages: pip, setuptools\n",
            "  Found existing installation: pip 19.3.1\n",
            "    Uninstalling pip-19.3.1:\n",
            "      Successfully uninstalled pip-19.3.1\n",
            "  Found existing installation: setuptools 54.2.0\n",
            "    Uninstalling setuptools-54.2.0:\n",
            "      Successfully uninstalled setuptools-54.2.0\n",
            "Successfully installed pip-21.0.1 setuptools-56.0.0\n",
            "Collecting lbry-libtorrent\n",
            "  Downloading lbry_libtorrent-1.2.4-py3-none-any.whl (2.4 MB)\n",
            "\u001b[K     |████████████████████████████████| 2.4 MB 11.5 MB/s \n",
            "\u001b[?25hInstalling collected packages: lbry-libtorrent\n",
            "Successfully installed lbry-libtorrent-1.2.4\n",
            "Reading package lists... Done\n",
            "Building dependency tree       \n",
            "Reading state information... Done\n",
            "The following additional packages will be installed:\n",
            "  libtorrent-rasterbar9\n",
            "Suggested packages:\n",
            "  libtorrent-rasterbar-dbg\n",
            "The following NEW packages will be installed:\n",
            "  libtorrent-rasterbar9 python3-libtorrent\n",
            "0 upgraded, 2 newly installed, 0 to remove and 31 not upgraded.\n",
            "Need to get 1,569 kB of archives.\n",
            "After this operation, 5,718 kB of additional disk space will be used.\n",
            "Get:1 http://archive.ubuntu.com/ubuntu bionic/universe amd64 libtorrent-rasterbar9 amd64 1.1.5-1build1 [1,258 kB]\n",
            "Get:2 http://archive.ubuntu.com/ubuntu bionic/universe amd64 python3-libtorrent amd64 1.1.5-1build1 [310 kB]\n",
            "Fetched 1,569 kB in 0s (12.3 MB/s)\n",
            "Selecting previously unselected package libtorrent-rasterbar9.\n",
            "(Reading database ... 160983 files and directories currently installed.)\n",
            "Preparing to unpack .../libtorrent-rasterbar9_1.1.5-1build1_amd64.deb ...\n",
            "Unpacking libtorrent-rasterbar9 (1.1.5-1build1) ...\n",
            "Selecting previously unselected package python3-libtorrent.\n",
            "Preparing to unpack .../python3-libtorrent_1.1.5-1build1_amd64.deb ...\n",
            "Unpacking python3-libtorrent (1.1.5-1build1) ...\n",
            "Setting up libtorrent-rasterbar9 (1.1.5-1build1) ...\n",
            "Setting up python3-libtorrent (1.1.5-1build1) ...\n",
            "Processing triggers for libc-bin (2.27-3ubuntu1.2) ...\n",
            "/sbin/ldconfig.real: /usr/local/lib/python3.7/dist-packages/ideep4py/lib/libmkldnn.so.0 is not a symbolic link\n",
            "\n"
          ],
          "name": "stdout"
        }
      ]
    },
    {
      "cell_type": "markdown",
      "metadata": {
        "id": "eP5rYvgCA1z4"
      },
      "source": [
        "### Code to download torrent"
      ]
    },
    {
      "cell_type": "code",
      "metadata": {
        "id": "9rzfSY67A3TP",
        "colab": {
          "base_uri": "https://localhost:8080/"
        },
        "outputId": "559a03fe-cf13-4a84-ab2b-642d05c7a6eb"
      },
      "source": [
        "import libtorrent as lt\n",
        "import time\n",
        "import datetime\n",
        "\n",
        "def download_torrent():\n",
        "    ses = lt.session()\n",
        "    ses.listen_on(6881, 6891)\n",
        "    link = input(\"Input Torrent Link or Magnet and Press Enter: \")\n",
        "    print(link)\n",
        "\n",
        "    handle = lt.add_magnet_uri(ses, link, params)\n",
        "    # change the 0 to a 1 to download sequential - this sequential option is only if you selected zip. If not,\n",
        "    # scroll farther down.\n",
        "    handle.set_sequential_download(0)\n",
        "\n",
        "    ses.start_dht()\n",
        "    begin = time.time()\n",
        "    print(datetime.datetime.now())\n",
        "\n",
        "    print('Downloading Metadata...')\n",
        "    while not handle.has_metadata():\n",
        "        time.sleep(1)\n",
        "    print('Got Metadata, Starting Torrent Download...')\n",
        "\n",
        "    print(\"Starting\", handle.name())\n",
        "\n",
        "    while handle.status().state != lt.torrent_status.seeding:\n",
        "        s = handle.status()\n",
        "        state_str = ['queued', 'checking', 'downloading metadata',\n",
        "                     'downloading', 'finished', 'seeding', 'allocating']\n",
        "        print('%.2f%% complete (down: %.1f kb/s up: %.1f kB/s peers: %d) %s ' % \\\n",
        "              (s.progress * 100, s.download_rate / 1000, s.upload_rate / 1000, \\\n",
        "               s.num_peers, state_str[s.state]))\n",
        "        time.sleep(5)\n",
        "\n",
        "    end = time.time()\n",
        "    print(handle.name(), \"COMPLETE\")\n",
        "\n",
        "    print(\"Elapsed Time: \", int((end - begin) // 60), \"min :\", int((end - begin) % 60), \"sec\")\n",
        "\n",
        "    print(datetime.datetime.now())\n",
        "\n",
        "\n",
        "zipp = input(\"Input 'Y'/'y' to zip the torrent and place it in your drive. Otherwise, leave blank. \")\n",
        "\n",
        "if zipp == 'Y' or zipp == 'y':\n",
        "    zip_name = input(\"Input name you would like for the zip file: \")\n",
        "    import shutil\n",
        "\n",
        "    params = {\n",
        "        'save_path': '/content/temp/',\n",
        "        'storage_mode': lt.storage_mode_t(2),\n",
        "    }\n",
        "    download_torrent()\n",
        "\n",
        "    print(\"now time to zip\")\n",
        "\n",
        "    print(\"Zipping ...\")\n",
        "    final_zip_directory = '/content/drive/MyDrive/Torrent/' + zip_name\n",
        "    shutil.make_archive(final_zip_directory, 'zip', '/content/temp/')\n",
        "    shutil.rmtree('/content/temp/')\n",
        "\n",
        "else:\n",
        "    params = {\n",
        "        'save_path': '/content/drive/MyDrive/Torrent/',\n",
        "        'storage_mode': lt.storage_mode_t(2),\n",
        "    }\n",
        "    download_torrent()\n",
        "\n",
        "print('\\nALL DONE!')\n"
      ],
      "execution_count": null,
      "outputs": [
        {
          "output_type": "stream",
          "text": [
            "Input 'Y'/'y' to zip the torrent and place it in your drive. Otherwise, leave blank. \n",
            "Input Torrent Link or Magnet and Press Enter: magnet:?xt=urn:btih:F5E96EA5622F48F30C513F51CA4DF6787C538C39&dn=How+to+Train+Your+Dragon%3A+Homecoming+%282019%29+%5B1080p%5D+%5BYTS.MX%5D&tr=udp%3A%2F%2Ftracker.opentrackr.org%3A1337%2Fannounce&tr=udp%3A%2F%2Ftracker.leechers-paradise.org%3A6969%2Fannounce&tr=udp%3A%2F%2F9.rarbg.to%3A2710%2Fannounce&tr=udp%3A%2F%2Fp4p.arenabg.ch%3A1337%2Fannounce&tr=udp%3A%2F%2Ftracker.cyberia.is%3A6969%2Fannounce&tr=http%3A%2F%2Fp4p.arenabg.com%3A1337%2Fannounce&tr=udp%3A%2F%2Ftracker.internetwarriors.net%3A1337%2Fannounce\n",
            "magnet:?xt=urn:btih:F5E96EA5622F48F30C513F51CA4DF6787C538C39&dn=How+to+Train+Your+Dragon%3A+Homecoming+%282019%29+%5B1080p%5D+%5BYTS.MX%5D&tr=udp%3A%2F%2Ftracker.opentrackr.org%3A1337%2Fannounce&tr=udp%3A%2F%2Ftracker.leechers-paradise.org%3A6969%2Fannounce&tr=udp%3A%2F%2F9.rarbg.to%3A2710%2Fannounce&tr=udp%3A%2F%2Fp4p.arenabg.ch%3A1337%2Fannounce&tr=udp%3A%2F%2Ftracker.cyberia.is%3A6969%2Fannounce&tr=http%3A%2F%2Fp4p.arenabg.com%3A1337%2Fannounce&tr=udp%3A%2F%2Ftracker.internetwarriors.net%3A1337%2Fannounce\n",
            "2021-04-17 13:24:13.103098\n",
            "Downloading Metadata...\n",
            "Got Metadata, Starting Torrent Download...\n",
            "Starting How To Train Your Dragon Homecoming (2019) [1080p] [WEBRip] [5.1] [YTS.MX]\n",
            "0.02% complete (down: 0.0 kb/s up: 0.2 kB/s peers: 3) downloading \n",
            "2.90% complete (down: 1771.2 kb/s up: 56.5 kB/s peers: 8) downloading \n",
            "8.03% complete (down: 3623.0 kb/s up: 118.1 kB/s peers: 19) downloading \n",
            "12.84% complete (down: 4031.7 kb/s up: 133.0 kB/s peers: 21) downloading \n",
            "17.58% complete (down: 4079.9 kb/s up: 134.9 kB/s peers: 30) downloading \n",
            "22.28% complete (down: 4160.7 kb/s up: 137.3 kB/s peers: 45) downloading \n",
            "26.84% complete (down: 4097.1 kb/s up: 134.6 kB/s peers: 45) downloading \n",
            "31.48% complete (down: 4138.9 kb/s up: 135.7 kB/s peers: 45) downloading \n",
            "35.93% complete (down: 3975.7 kb/s up: 130.6 kB/s peers: 44) downloading \n",
            "40.24% complete (down: 3854.5 kb/s up: 126.3 kB/s peers: 44) downloading \n",
            "44.73% complete (down: 3958.4 kb/s up: 128.8 kB/s peers: 43) downloading \n",
            "49.73% complete (down: 4344.0 kb/s up: 140.3 kB/s peers: 40) downloading \n",
            "55.24% complete (down: 4693.4 kb/s up: 154.3 kB/s peers: 39) downloading \n",
            "60.49% complete (down: 4668.7 kb/s up: 162.6 kB/s peers: 39) downloading \n",
            "65.71% complete (down: 4669.5 kb/s up: 162.0 kB/s peers: 43) downloading \n",
            "71.07% complete (down: 4702.0 kb/s up: 161.8 kB/s peers: 43) downloading \n",
            "76.76% complete (down: 4915.0 kb/s up: 162.8 kB/s peers: 43) downloading \n",
            "82.70% complete (down: 5144.6 kb/s up: 169.1 kB/s peers: 44) downloading \n",
            "88.24% complete (down: 4911.1 kb/s up: 161.1 kB/s peers: 44) downloading \n",
            "93.74% complete (down: 5047.8 kb/s up: 164.7 kB/s peers: 42) downloading \n",
            "98.82% complete (down: 4458.2 kb/s up: 140.8 kB/s peers: 43) downloading \n",
            "99.85% complete (down: 2235.6 kb/s up: 100.6 kB/s peers: 43) downloading \n",
            "How To Train Your Dragon Homecoming (2019) [1080p] [WEBRip] [5.1] [YTS.MX] COMPLETE\n",
            "Elapsed Time:  1 min : 53 sec\n",
            "2021-04-17 13:26:06.196929\n",
            "\n",
            "ALL DONE!\n"
          ],
          "name": "stdout"
        }
      ]
    },
    {
      "cell_type": "code",
      "metadata": {
        "id": "glUfT5vK6IjW"
      },
      "source": [
        ""
      ],
      "execution_count": null,
      "outputs": []
    }
  ]
}